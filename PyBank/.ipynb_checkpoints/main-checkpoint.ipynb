{
 "cells": [
  {
   "cell_type": "code",
   "execution_count": 2,
   "metadata": {},
   "outputs": [],
   "source": [
    "from pathlib import Path\n",
    "import csv"
   ]
  },
  {
   "cell_type": "code",
   "execution_count": 5,
   "metadata": {},
   "outputs": [],
   "source": [
    "budget_path = Path(\"../../../hw/02-Python/Instructions/PyBank/Resources/budget_data.csv\")\n",
    "budget = []"
   ]
  },
  {
   "cell_type": "code",
   "execution_count": 6,
   "metadata": {},
   "outputs": [
    {
     "name": "stdout",
     "output_type": "stream",
     "text": [
      "<class '_csv.reader'>\n"
     ]
    }
   ],
   "source": [
    "with open(budget_path, \"r\") as budget_data:\n",
    "    \n",
    "    csvreader = csv.reader(budget_data, delimiter=\",\")\n",
    "    \n",
    "print(type(csvreader))"
   ]
  },
  {
   "cell_type": "code",
   "execution_count": 12,
   "metadata": {},
   "outputs": [
    {
     "name": "stdout",
     "output_type": "stream",
     "text": [
      "Financial Analysis\n",
      "---------------------------------------\n",
      "Total Months: 86\n",
      "Total: $38382578\n",
      "Average Change: $446309.0465116279\n",
      "Greatest Increase in Profits: Feb-2012 ($1170593)\n",
      "Greatest Decrease in Profits: Sep-2013 ($-1196225)\n"
     ]
    }
   ],
   "source": [
    "with open(budget_path, \"r\") as budget_data:\n",
    "    budgetreader = csv.reader(budget_data, delimiter=\",\")\n",
    "    \n",
    "    head = next(budgetreader)\n",
    "    \n",
    "    total_months = 0\n",
    "    total_PL = 0\n",
    "    greatest_increase = 0\n",
    "    date_increase = ''\n",
    "    greatest_decrease = 0\n",
    "    date_decrease = ''\n",
    "    \n",
    "    for row in budgetreader:\n",
    "        total_months += 1\n",
    "        total_PL += int(row[1])\n",
    "        if greatest_increase < int(row[1]):\n",
    "            greatest_increase = int(row[1])\n",
    "            date_increase = row[0]\n",
    "        if greatest_decrease == 0:\n",
    "            greatest_decrease = int(row[1])\n",
    "            date_decrease = row[0]\n",
    "        elif greatest_decrease > int(row[1]):\n",
    "            greatest_decrease = int(row[1])\n",
    "            date_decrease = row[0]\n",
    "print(\"Financial Analysis\")\n",
    "print(\"---------------------------------------\")\n",
    "print(f\"Total Months: {total_months}\")\n",
    "print(f\"Total: ${total_PL}\")\n",
    "print('Average Change: ${}'.format(total_PL/total_months))\n",
    "print('Greatest Increase in Profits: {} (${})'.format(date_increase, greatest_increase))\n",
    "print('Greatest Decrease in Profits: {} (${})'.format(date_decrease, greatest_decrease))"
   ]
  },
  {
   "cell_type": "code",
   "execution_count": null,
   "metadata": {},
   "outputs": [],
   "source": []
  }
 ],
 "metadata": {
  "kernelspec": {
   "display_name": "Python 3",
   "language": "python",
   "name": "python3"
  },
  "language_info": {
   "codemirror_mode": {
    "name": "ipython",
    "version": 3
   },
   "file_extension": ".py",
   "mimetype": "text/x-python",
   "name": "python",
   "nbconvert_exporter": "python",
   "pygments_lexer": "ipython3",
   "version": "3.7.6"
  }
 },
 "nbformat": 4,
 "nbformat_minor": 4
}
